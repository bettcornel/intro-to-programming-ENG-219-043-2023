{
 "cells": [
  {
   "cell_type": "markdown",
   "id": "418fb963",
   "metadata": {
    "papermill": {
     "duration": 0.006087,
     "end_time": "2025-03-10T18:37:34.934745",
     "exception": false,
     "start_time": "2025-03-10T18:37:34.928658",
     "status": "completed"
    },
    "tags": []
   },
   "source": [
    "**This notebook is an exercise in the [Intro to Programming](https://www.kaggle.com/learn/intro-to-programming) course.  You can reference the tutorial at [this link](https://www.kaggle.com/alexisbcook/functions).**\n",
    "\n",
    "---\n"
   ]
  },
  {
   "cell_type": "markdown",
   "id": "ceaee419",
   "metadata": {
    "papermill": {
     "duration": 0.004703,
     "end_time": "2025-03-10T18:37:34.944701",
     "exception": false,
     "start_time": "2025-03-10T18:37:34.939998",
     "status": "completed"
    },
    "tags": []
   },
   "source": [
    "In the tutorial, you learned about functions. In this exercise, you'll write some of your own!\n",
    "\n",
    "# Set up the notebook\n",
    "\n",
    "Run the next code cell without changes to set up the notebook."
   ]
  },
  {
   "cell_type": "code",
   "execution_count": 1,
   "id": "868efd86",
   "metadata": {
    "execution": {
     "iopub.execute_input": "2025-03-10T18:37:34.956044Z",
     "iopub.status.busy": "2025-03-10T18:37:34.955569Z",
     "iopub.status.idle": "2025-03-10T18:37:36.009472Z",
     "shell.execute_reply": "2025-03-10T18:37:36.008192Z"
    },
    "papermill": {
     "duration": 1.061859,
     "end_time": "2025-03-10T18:37:36.011476",
     "exception": false,
     "start_time": "2025-03-10T18:37:34.949617",
     "status": "completed"
    },
    "tags": []
   },
   "outputs": [
    {
     "name": "stdout",
     "output_type": "stream",
     "text": [
      "Setup complete.\n"
     ]
    }
   ],
   "source": [
    "# Set up the exercise\n",
    "import math\n",
    "from learntools.core import binder\n",
    "binder.bind(globals())\n",
    "from learntools.intro_to_programming.ex2 import *\n",
    "print('Setup complete.')"
   ]
  },
  {
   "cell_type": "markdown",
   "id": "d80cb3ed",
   "metadata": {
    "papermill": {
     "duration": 0.004886,
     "end_time": "2025-03-10T18:37:36.022136",
     "exception": false,
     "start_time": "2025-03-10T18:37:36.017250",
     "status": "completed"
    },
    "tags": []
   },
   "source": [
    "# Question 1\n",
    "\n",
    "In the [House Prices - Advanced Regression Techniques competition](https://www.kaggle.com/c/house-prices-advanced-regression-techniques/overview), you need to use information like the number of bedrooms and bathrooms to predict the price of a house.  Inspired by this competition, you'll write your own function to do this.\n",
    "\n",
    "In the next code cell, create a function `get_expected_cost()` that has two arguments:\n",
    "- `beds` - number of bedrooms \n",
    "- `baths` - number of bathrooms\n",
    "\n",
    "It should return the expected cost of a house with that number of bedrooms and bathrooms.  Assume that:\n",
    "- the expected cost for a house with 0 bedrooms and 0 bathrooms is `80000`.  \n",
    "- each bedroom adds `30000` to the expected cost\n",
    "- each bathroom adds `10000` to the expected cost.\n",
    "\n",
    "For instance, \n",
    "- a house with 1 bedroom and 1 bathroom has an expected cost of `120000`, and \n",
    "- a house with 2 bedrooms and 1 bathroom has an expected cost of `150000`."
   ]
  },
  {
   "cell_type": "code",
   "execution_count": 2,
   "id": "dd467fc9",
   "metadata": {
    "execution": {
     "iopub.execute_input": "2025-03-10T18:37:36.034379Z",
     "iopub.status.busy": "2025-03-10T18:37:36.033828Z",
     "iopub.status.idle": "2025-03-10T18:37:36.043017Z",
     "shell.execute_reply": "2025-03-10T18:37:36.041959Z"
    },
    "papermill": {
     "duration": 0.016933,
     "end_time": "2025-03-10T18:37:36.044571",
     "exception": false,
     "start_time": "2025-03-10T18:37:36.027638",
     "status": "completed"
    },
    "tags": []
   },
   "outputs": [
    {
     "data": {
      "application/javascript": [
       "parent.postMessage({\"jupyterEvent\": \"custom.exercise_interaction\", \"data\": {\"outcomeType\": 1, \"valueTowardsCompletion\": 0.2, \"interactionType\": 1, \"questionType\": 2, \"questionId\": \"1_GetExpectedCost\", \"learnToolsVersion\": \"0.3.4\", \"failureMessage\": \"\", \"exceptionClass\": \"\", \"trace\": \"\"}}, \"*\")"
      ],
      "text/plain": [
       "<IPython.core.display.Javascript object>"
      ]
     },
     "metadata": {},
     "output_type": "display_data"
    },
    {
     "data": {
      "text/markdown": [
       "<span style=\"color:#33cc33\">Correct</span>"
      ],
      "text/plain": [
       "Correct"
      ]
     },
     "metadata": {},
     "output_type": "display_data"
    }
   ],
   "source": [
    "# TODO: Complete the function\n",
    "def get_expected_cost(beds, baths):\n",
    "    value = 80000+(beds*30000)+(baths*10000)\n",
    "    return value\n",
    "\n",
    "# Check your answer \n",
    "q1.check()"
   ]
  },
  {
   "cell_type": "code",
   "execution_count": 3,
   "id": "7e010805",
   "metadata": {
    "execution": {
     "iopub.execute_input": "2025-03-10T18:37:36.056594Z",
     "iopub.status.busy": "2025-03-10T18:37:36.056164Z",
     "iopub.status.idle": "2025-03-10T18:37:36.060404Z",
     "shell.execute_reply": "2025-03-10T18:37:36.059319Z"
    },
    "papermill": {
     "duration": 0.012387,
     "end_time": "2025-03-10T18:37:36.062323",
     "exception": false,
     "start_time": "2025-03-10T18:37:36.049936",
     "status": "completed"
    },
    "tags": []
   },
   "outputs": [],
   "source": [
    "# Uncomment to see a hint\n",
    "#q1.hint()\n",
    "\n",
    "# Uncomment to view the solution\n",
    "#q1.solution()"
   ]
  },
  {
   "cell_type": "markdown",
   "id": "b18dc975",
   "metadata": {
    "papermill": {
     "duration": 0.004992,
     "end_time": "2025-03-10T18:37:36.072965",
     "exception": false,
     "start_time": "2025-03-10T18:37:36.067973",
     "status": "completed"
    },
    "tags": []
   },
   "source": [
    "# Question 2\n",
    "\n",
    "You are thinking about buying a home and want to get an idea of how much you will spend, based on the number of bedrooms and bathrooms.  You are trying to decide between four different options:\n",
    "- Option 1: house with two bedrooms and three bathrooms\n",
    "- Option 2: house with three bedrooms and two bathrooms\n",
    "- Option 3: house with three bedrooms and three bathrooms\n",
    "- Option 4: house with three bedrooms and four bathrooms\n",
    "\n",
    "Use the `get_expected_cost()` function you defined in question 1 to set `option_1`, `option_2`, `option_3`, and `option_4` to the expected cost of each option."
   ]
  },
  {
   "cell_type": "code",
   "execution_count": 4,
   "id": "e076e705",
   "metadata": {
    "execution": {
     "iopub.execute_input": "2025-03-10T18:37:36.085674Z",
     "iopub.status.busy": "2025-03-10T18:37:36.085298Z",
     "iopub.status.idle": "2025-03-10T18:37:36.096090Z",
     "shell.execute_reply": "2025-03-10T18:37:36.094962Z"
    },
    "papermill": {
     "duration": 0.019049,
     "end_time": "2025-03-10T18:37:36.097964",
     "exception": false,
     "start_time": "2025-03-10T18:37:36.078915",
     "status": "completed"
    },
    "tags": []
   },
   "outputs": [
    {
     "name": "stdout",
     "output_type": "stream",
     "text": [
      "170000\n",
      "190000\n",
      "200000\n",
      "210000\n"
     ]
    },
    {
     "data": {
      "application/javascript": [
       "parent.postMessage({\"jupyterEvent\": \"custom.exercise_interaction\", \"data\": {\"outcomeType\": 1, \"valueTowardsCompletion\": 0.2, \"interactionType\": 1, \"questionType\": 1, \"questionId\": \"2_RunGetExpectedCost\", \"learnToolsVersion\": \"0.3.4\", \"failureMessage\": \"\", \"exceptionClass\": \"\", \"trace\": \"\"}}, \"*\")"
      ],
      "text/plain": [
       "<IPython.core.display.Javascript object>"
      ]
     },
     "metadata": {},
     "output_type": "display_data"
    },
    {
     "data": {
      "text/markdown": [
       "<span style=\"color:#33cc33\">Correct</span>"
      ],
      "text/plain": [
       "Correct"
      ]
     },
     "metadata": {},
     "output_type": "display_data"
    }
   ],
   "source": [
    "# TODO: Use the get_expected_cost function to fill in each value\n",
    "option_one = get_expected_cost(2,3)\n",
    "option_two = get_expected_cost(3,2)\n",
    "option_three = get_expected_cost(3,3)\n",
    "option_four = get_expected_cost(3,4)\n",
    "\n",
    "print(option_one)\n",
    "print(option_two)\n",
    "print(option_three)\n",
    "print(option_four)\n",
    "\n",
    "# Check your answer\n",
    "q2.check()"
   ]
  },
  {
   "cell_type": "code",
   "execution_count": 5,
   "id": "b829382d",
   "metadata": {
    "execution": {
     "iopub.execute_input": "2025-03-10T18:37:36.111172Z",
     "iopub.status.busy": "2025-03-10T18:37:36.110814Z",
     "iopub.status.idle": "2025-03-10T18:37:36.114834Z",
     "shell.execute_reply": "2025-03-10T18:37:36.113802Z"
    },
    "papermill": {
     "duration": 0.01289,
     "end_time": "2025-03-10T18:37:36.116653",
     "exception": false,
     "start_time": "2025-03-10T18:37:36.103763",
     "status": "completed"
    },
    "tags": []
   },
   "outputs": [],
   "source": [
    "# Uncomment to see a hint\n",
    "#q2.hint()\n",
    "\n",
    "# Uncomment to view the solution\n",
    "#q2.solution()"
   ]
  },
  {
   "cell_type": "markdown",
   "id": "10c78372",
   "metadata": {
    "papermill": {
     "duration": 0.005311,
     "end_time": "2025-03-10T18:37:36.127814",
     "exception": false,
     "start_time": "2025-03-10T18:37:36.122503",
     "status": "completed"
    },
    "tags": []
   },
   "source": [
    "# Question 3\n",
    "\n",
    "You're a home decorator, and you'd like to use Python to streamline some of your work.  Specifically, you're creating a tool that you intend to use to calculate the cost of painting a room.\n",
    "\n",
    "As a first step, define a function `get_cost()` that takes as input:\n",
    "- `sqft_walls` = total square feet of walls to be painted\n",
    "- `sqft_ceiling` = square feet of ceiling to be painted\n",
    "- `sqft_per_gallon` = number of square feet that you can cover with one gallon of paint\n",
    "- `cost_per_gallon` = cost (in dollars) of one gallon of paint\n",
    "\n",
    "It should return the cost (in dollars) of putting one coat of paint on all walls and the ceiling.  Assume you can buy the exact amount of paint that you need, so you can buy partial gallons (e.g., if you need 7.523 gallons, you can buy that exact amount, instead of needing to buy 8 gallons and waste some paint).  Do not round your answer."
   ]
  },
  {
   "cell_type": "code",
   "execution_count": 6,
   "id": "3ce6957c",
   "metadata": {
    "execution": {
     "iopub.execute_input": "2025-03-10T18:37:36.140204Z",
     "iopub.status.busy": "2025-03-10T18:37:36.139822Z",
     "iopub.status.idle": "2025-03-10T18:37:36.147746Z",
     "shell.execute_reply": "2025-03-10T18:37:36.146740Z"
    },
    "papermill": {
     "duration": 0.01622,
     "end_time": "2025-03-10T18:37:36.149549",
     "exception": false,
     "start_time": "2025-03-10T18:37:36.133329",
     "status": "completed"
    },
    "tags": []
   },
   "outputs": [
    {
     "data": {
      "application/javascript": [
       "parent.postMessage({\"jupyterEvent\": \"custom.exercise_interaction\", \"data\": {\"outcomeType\": 1, \"valueTowardsCompletion\": 0.2, \"interactionType\": 1, \"questionType\": 2, \"questionId\": \"3_GetCostPaint\", \"learnToolsVersion\": \"0.3.4\", \"failureMessage\": \"\", \"exceptionClass\": \"\", \"trace\": \"\"}}, \"*\")"
      ],
      "text/plain": [
       "<IPython.core.display.Javascript object>"
      ]
     },
     "metadata": {},
     "output_type": "display_data"
    },
    {
     "data": {
      "text/markdown": [
       "<span style=\"color:#33cc33\">Correct</span>"
      ],
      "text/plain": [
       "Correct"
      ]
     },
     "metadata": {},
     "output_type": "display_data"
    }
   ],
   "source": [
    "# TODO: Finish defining the function\n",
    "def get_cost(sqft_walls, sqft_ceiling, sqft_per_gallon, cost_per_gallon):\n",
    "    cost = ((sqft_walls+sqft_ceiling)/sqft_per_gallon)*cost_per_gallon\n",
    "    return cost\n",
    "\n",
    "# Check your answer\n",
    "q3.check()"
   ]
  },
  {
   "cell_type": "code",
   "execution_count": 7,
   "id": "a41ad6ac",
   "metadata": {
    "execution": {
     "iopub.execute_input": "2025-03-10T18:37:36.162699Z",
     "iopub.status.busy": "2025-03-10T18:37:36.162284Z",
     "iopub.status.idle": "2025-03-10T18:37:36.166589Z",
     "shell.execute_reply": "2025-03-10T18:37:36.165195Z"
    },
    "papermill": {
     "duration": 0.012766,
     "end_time": "2025-03-10T18:37:36.168295",
     "exception": false,
     "start_time": "2025-03-10T18:37:36.155529",
     "status": "completed"
    },
    "tags": []
   },
   "outputs": [],
   "source": [
    "# Uncomment to see a hint\n",
    "#q3.hint()\n",
    "\n",
    "# Uncomment to view the solution\n",
    "#q3.solution()"
   ]
  },
  {
   "cell_type": "markdown",
   "id": "cbcae608",
   "metadata": {
    "papermill": {
     "duration": 0.005457,
     "end_time": "2025-03-10T18:37:36.179662",
     "exception": false,
     "start_time": "2025-03-10T18:37:36.174205",
     "status": "completed"
    },
    "tags": []
   },
   "source": [
    "# Question 4\n",
    "\n",
    "Use the `get_cost()` function you defined in Question 3 to calculate the cost of applying one coat of paint to a room with:\n",
    "- 432 square feet of walls, and\n",
    "- 144 square feet of ceiling.\n",
    "\n",
    "Assume that one gallon of paint covers 400 square feet and costs $15.  As in Question 3, assume you can buy partial gallons of paint.  Do not round your answer."
   ]
  },
  {
   "cell_type": "code",
   "execution_count": 8,
   "id": "2873694d",
   "metadata": {
    "execution": {
     "iopub.execute_input": "2025-03-10T18:37:36.192548Z",
     "iopub.status.busy": "2025-03-10T18:37:36.192132Z",
     "iopub.status.idle": "2025-03-10T18:37:36.201304Z",
     "shell.execute_reply": "2025-03-10T18:37:36.199594Z"
    },
    "papermill": {
     "duration": 0.018024,
     "end_time": "2025-03-10T18:37:36.203453",
     "exception": false,
     "start_time": "2025-03-10T18:37:36.185429",
     "status": "completed"
    },
    "tags": []
   },
   "outputs": [
    {
     "data": {
      "application/javascript": [
       "parent.postMessage({\"jupyterEvent\": \"custom.exercise_interaction\", \"data\": {\"outcomeType\": 1, \"valueTowardsCompletion\": 0.2, \"interactionType\": 1, \"questionType\": 1, \"questionId\": \"4_GetCostPaintExample\", \"learnToolsVersion\": \"0.3.4\", \"failureMessage\": \"\", \"exceptionClass\": \"\", \"trace\": \"\"}}, \"*\")"
      ],
      "text/plain": [
       "<IPython.core.display.Javascript object>"
      ]
     },
     "metadata": {},
     "output_type": "display_data"
    },
    {
     "data": {
      "text/markdown": [
       "<span style=\"color:#33cc33\">Correct</span>"
      ],
      "text/plain": [
       "Correct"
      ]
     },
     "metadata": {},
     "output_type": "display_data"
    }
   ],
   "source": [
    "# TODO: Set the project_cost variable to the cost of the project\n",
    "project_cost = get_cost(432,144,400,15)\n",
    "\n",
    "# Check your answer\n",
    "q4.check()"
   ]
  },
  {
   "cell_type": "code",
   "execution_count": 9,
   "id": "2a3443e2",
   "metadata": {
    "execution": {
     "iopub.execute_input": "2025-03-10T18:37:36.218158Z",
     "iopub.status.busy": "2025-03-10T18:37:36.217795Z",
     "iopub.status.idle": "2025-03-10T18:37:36.221877Z",
     "shell.execute_reply": "2025-03-10T18:37:36.220626Z"
    },
    "papermill": {
     "duration": 0.013456,
     "end_time": "2025-03-10T18:37:36.223783",
     "exception": false,
     "start_time": "2025-03-10T18:37:36.210327",
     "status": "completed"
    },
    "tags": []
   },
   "outputs": [],
   "source": [
    "# Uncomment to see a hint\n",
    "#q4.hint()\n",
    "\n",
    "# Uncomment to view the solution\n",
    "#q4.solution()"
   ]
  },
  {
   "cell_type": "markdown",
   "id": "eb5842c1",
   "metadata": {
    "papermill": {
     "duration": 0.006892,
     "end_time": "2025-03-10T18:37:36.237176",
     "exception": false,
     "start_time": "2025-03-10T18:37:36.230284",
     "status": "completed"
    },
    "tags": []
   },
   "source": [
    "# 🌶️ Question 5\n",
    "\n",
    "Now say you can no longer buy fractions of a gallon.  (For instance, if you need 4.3 gallons to do a project, then you have to buy 5 gallons of paint.)\n",
    "\n",
    "With this new scenario, you will create a new function `get_actual_cost` that uses the same inputs and calculates the cost of your project.\n",
    "\n",
    "One function that you'll need to use to do this is `math.ceil()`.  We demonstrate usage of this function in the code cell below.  It takes as a number as input and rounds the number up to the nearest integer.  \n",
    "\n",
    "Run the next code cell to test this function for yourself.  Feel free to change the value of `test_value` and make sure `math.ceil()` returns the number you expect."
   ]
  },
  {
   "cell_type": "code",
   "execution_count": 10,
   "id": "ca83d832",
   "metadata": {
    "execution": {
     "iopub.execute_input": "2025-03-10T18:37:36.251331Z",
     "iopub.status.busy": "2025-03-10T18:37:36.250875Z",
     "iopub.status.idle": "2025-03-10T18:37:36.256992Z",
     "shell.execute_reply": "2025-03-10T18:37:36.255375Z"
    },
    "papermill": {
     "duration": 0.015111,
     "end_time": "2025-03-10T18:37:36.258890",
     "exception": false,
     "start_time": "2025-03-10T18:37:36.243779",
     "status": "completed"
    },
    "tags": []
   },
   "outputs": [
    {
     "name": "stdout",
     "output_type": "stream",
     "text": [
      "3\n"
     ]
    }
   ],
   "source": [
    "test_value = 2.17\n",
    "\n",
    "rounded_value = math.ceil(test_value)\n",
    "print(rounded_value)"
   ]
  },
  {
   "cell_type": "markdown",
   "id": "f7cff695",
   "metadata": {
    "papermill": {
     "duration": 0.006011,
     "end_time": "2025-03-10T18:37:36.271482",
     "exception": false,
     "start_time": "2025-03-10T18:37:36.265471",
     "status": "completed"
    },
    "tags": []
   },
   "source": [
    "Use the next code cell to define the function `get_actual_cost()`.  You'll need to use the `math.ceil()` function to do this.\n",
    "\n",
    "When answering this question, note that it's completely valid to define a function that makes use of another function.  For instance, we can define a function `round_up_and_divide_by_three` that makes use of the `math.ceil` function:\n",
    "```\n",
    "def round_up_and_divide_by_three(num):\n",
    "    new_value = math.ceil(num)\n",
    "    final_value = new_value / 3\n",
    "    return final_value\n",
    "```"
   ]
  },
  {
   "cell_type": "code",
   "execution_count": 11,
   "id": "23a54c54",
   "metadata": {
    "execution": {
     "iopub.execute_input": "2025-03-10T18:37:36.284961Z",
     "iopub.status.busy": "2025-03-10T18:37:36.284585Z",
     "iopub.status.idle": "2025-03-10T18:37:36.293384Z",
     "shell.execute_reply": "2025-03-10T18:37:36.292193Z"
    },
    "papermill": {
     "duration": 0.017574,
     "end_time": "2025-03-10T18:37:36.295162",
     "exception": false,
     "start_time": "2025-03-10T18:37:36.277588",
     "status": "completed"
    },
    "tags": []
   },
   "outputs": [
    {
     "data": {
      "application/javascript": [
       "parent.postMessage({\"jupyterEvent\": \"custom.exercise_interaction\", \"data\": {\"outcomeType\": 1, \"valueTowardsCompletion\": 0.2, \"interactionType\": 1, \"questionType\": 2, \"questionId\": \"5_NoMoreFractions\", \"learnToolsVersion\": \"0.3.4\", \"failureMessage\": \"\", \"exceptionClass\": \"\", \"trace\": \"\"}}, \"*\")"
      ],
      "text/plain": [
       "<IPython.core.display.Javascript object>"
      ]
     },
     "metadata": {},
     "output_type": "display_data"
    },
    {
     "data": {
      "text/markdown": [
       "<span style=\"color:#33cc33\">Correct</span>"
      ],
      "text/plain": [
       "Correct"
      ]
     },
     "metadata": {},
     "output_type": "display_data"
    }
   ],
   "source": [
    "def get_actual_cost(sqft_walls, sqft_ceiling, sqft_per_gallon, cost_per_gallon):\n",
    "    cost = math.ceil(((sqft_walls+sqft_ceiling)/sqft_per_gallon))*cost_per_gallon\n",
    "    return cost\n",
    "\n",
    "# Check your answer\n",
    "q5.check()"
   ]
  },
  {
   "cell_type": "code",
   "execution_count": 12,
   "id": "0f2c66bc",
   "metadata": {
    "execution": {
     "iopub.execute_input": "2025-03-10T18:37:36.309613Z",
     "iopub.status.busy": "2025-03-10T18:37:36.309221Z",
     "iopub.status.idle": "2025-03-10T18:37:36.313290Z",
     "shell.execute_reply": "2025-03-10T18:37:36.312077Z"
    },
    "papermill": {
     "duration": 0.013183,
     "end_time": "2025-03-10T18:37:36.315126",
     "exception": false,
     "start_time": "2025-03-10T18:37:36.301943",
     "status": "completed"
    },
    "tags": []
   },
   "outputs": [],
   "source": [
    "# Uncomment to see a hint\n",
    "#q5.hint()\n",
    "\n",
    "# Uncomment to view the solution\n",
    "#q5.solution()"
   ]
  },
  {
   "cell_type": "markdown",
   "id": "f3f8aa72",
   "metadata": {
    "papermill": {
     "duration": 0.006142,
     "end_time": "2025-03-10T18:37:36.327682",
     "exception": false,
     "start_time": "2025-03-10T18:37:36.321540",
     "status": "completed"
    },
    "tags": []
   },
   "source": [
    "Once your function is verified as correct, run the next code cell to calculate the updated cost of your project."
   ]
  },
  {
   "cell_type": "code",
   "execution_count": 13,
   "id": "5e2f31d7",
   "metadata": {
    "execution": {
     "iopub.execute_input": "2025-03-10T18:37:36.341722Z",
     "iopub.status.busy": "2025-03-10T18:37:36.341271Z",
     "iopub.status.idle": "2025-03-10T18:37:36.347541Z",
     "shell.execute_reply": "2025-03-10T18:37:36.346256Z"
    },
    "papermill": {
     "duration": 0.015521,
     "end_time": "2025-03-10T18:37:36.349390",
     "exception": false,
     "start_time": "2025-03-10T18:37:36.333869",
     "status": "completed"
    },
    "tags": []
   },
   "outputs": [
    {
     "data": {
      "text/plain": [
       "30"
      ]
     },
     "execution_count": 13,
     "metadata": {},
     "output_type": "execute_result"
    }
   ],
   "source": [
    "get_actual_cost(432, 144, 400, 15) "
   ]
  },
  {
   "cell_type": "markdown",
   "id": "22b0b1b6",
   "metadata": {
    "papermill": {
     "duration": 0.006064,
     "end_time": "2025-03-10T18:37:36.362206",
     "exception": false,
     "start_time": "2025-03-10T18:37:36.356142",
     "status": "completed"
    },
    "tags": []
   },
   "source": [
    "Say you're working with a slightly larger room.  Run the next code cell to calculate the cost of the project."
   ]
  },
  {
   "cell_type": "code",
   "execution_count": 14,
   "id": "50565ef4",
   "metadata": {
    "execution": {
     "iopub.execute_input": "2025-03-10T18:37:36.377310Z",
     "iopub.status.busy": "2025-03-10T18:37:36.376900Z",
     "iopub.status.idle": "2025-03-10T18:37:36.382879Z",
     "shell.execute_reply": "2025-03-10T18:37:36.381681Z"
    },
    "papermill": {
     "duration": 0.014941,
     "end_time": "2025-03-10T18:37:36.384570",
     "exception": false,
     "start_time": "2025-03-10T18:37:36.369629",
     "status": "completed"
    },
    "tags": []
   },
   "outputs": [
    {
     "data": {
      "text/plain": [
       "45"
      ]
     },
     "execution_count": 14,
     "metadata": {},
     "output_type": "execute_result"
    }
   ],
   "source": [
    "get_actual_cost(594, 288, 400, 15) "
   ]
  },
  {
   "cell_type": "markdown",
   "id": "ab58e7f1",
   "metadata": {
    "papermill": {
     "duration": 0.006315,
     "end_time": "2025-03-10T18:37:36.397466",
     "exception": false,
     "start_time": "2025-03-10T18:37:36.391151",
     "status": "completed"
    },
    "tags": []
   },
   "source": [
    "# Keep going\n",
    "\n",
    "Continue to learn about **[data types](https://www.kaggle.com/alexisbcook/data-types)**."
   ]
  },
  {
   "cell_type": "markdown",
   "id": "c4ae5fe2",
   "metadata": {
    "papermill": {
     "duration": 0.007078,
     "end_time": "2025-03-10T18:37:36.414328",
     "exception": false,
     "start_time": "2025-03-10T18:37:36.407250",
     "status": "completed"
    },
    "tags": []
   },
   "source": [
    "---\n",
    "\n",
    "\n",
    "\n",
    "\n",
    "*Have questions or comments? Visit the [course discussion forum](https://www.kaggle.com/learn/intro-to-programming/discussion) to chat with other learners.*"
   ]
  }
 ],
 "metadata": {
  "kaggle": {
   "accelerator": "none",
   "dataSources": [],
   "isGpuEnabled": false,
   "isInternetEnabled": false,
   "language": "python",
   "sourceType": "notebook"
  },
  "kernelspec": {
   "display_name": "Python 3",
   "language": "python",
   "name": "python3"
  },
  "language_info": {
   "codemirror_mode": {
    "name": "ipython",
    "version": 3
   },
   "file_extension": ".py",
   "mimetype": "text/x-python",
   "name": "python",
   "nbconvert_exporter": "python",
   "pygments_lexer": "ipython3",
   "version": "3.10.12"
  },
  "papermill": {
   "default_parameters": {},
   "duration": 5.027472,
   "end_time": "2025-03-10T18:37:37.043081",
   "environment_variables": {},
   "exception": null,
   "input_path": "__notebook__.ipynb",
   "output_path": "__notebook__.ipynb",
   "parameters": {},
   "start_time": "2025-03-10T18:37:32.015609",
   "version": "2.6.0"
  }
 },
 "nbformat": 4,
 "nbformat_minor": 5
}
